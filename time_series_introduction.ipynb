{
 "cells": [
  {
   "cell_type": "markdown",
   "metadata": {},
   "source": [
    "Time series data is an important form of structured data. Anything that is observed or\n",
    "measured at many points in time forms a time series. How you mark\n",
    "and refer to time series data depends on the application and you may have one of the\n",
    "following:\n",
    "\n",
    "• Timestamps, specific instants in time\n",
    "\n",
    "• Fixed periods, such as the month January 2007 or the full year 2010\n",
    "\n",
    "• Intervals of time, indicated by a start and end timestamp. Periods can be thought\n",
    "of as special cases of intervals\n",
    "\n",
    "• Experiment or elapsed time; each timestamp is a measure of time relative to a\n",
    "particular start time."
   ]
  },
  {
   "cell_type": "markdown",
   "metadata": {},
   "source": [
    "The Python standard library includes data types for date and time data, as well as\n",
    "calendar-related functionality. The datetime, time, and calendar modules are the main\n",
    "places to start. The datetime.datetime type, or simply datetime, is widely used:"
   ]
  },
  {
   "cell_type": "code",
   "execution_count": 3,
   "metadata": {
    "collapsed": true
   },
   "outputs": [],
   "source": [
    "from datetime import datetime\n",
    "\n",
    "now = datetime.now()"
   ]
  },
  {
   "cell_type": "code",
   "execution_count": 4,
   "metadata": {},
   "outputs": [
    {
     "data": {
      "text/plain": [
       "datetime.datetime(2017, 7, 21, 11, 34, 47, 222650)"
      ]
     },
     "execution_count": 4,
     "metadata": {},
     "output_type": "execute_result"
    }
   ],
   "source": [
    "now"
   ]
  },
  {
   "cell_type": "code",
   "execution_count": 5,
   "metadata": {},
   "outputs": [
    {
     "data": {
      "text/plain": [
       "(2017, 7, 21)"
      ]
     },
     "execution_count": 5,
     "metadata": {},
     "output_type": "execute_result"
    }
   ],
   "source": [
    "now.year, now.month, now.day"
   ]
  },
  {
   "cell_type": "markdown",
   "metadata": {},
   "source": [
    "datetime stores both the date and time down to the microsecond. datetime.time\n",
    "delta represents the temporal difference between two datetime objects:"
   ]
  },
  {
   "cell_type": "code",
   "execution_count": 6,
   "metadata": {
    "collapsed": true
   },
   "outputs": [],
   "source": [
    "delta = datetime(2017, 7, 21) - datetime(2014, 12, 22, 8, 15)"
   ]
  },
  {
   "cell_type": "code",
   "execution_count": 7,
   "metadata": {},
   "outputs": [
    {
     "data": {
      "text/plain": [
       "datetime.timedelta(941, 56700)"
      ]
     },
     "execution_count": 7,
     "metadata": {},
     "output_type": "execute_result"
    }
   ],
   "source": [
    "delta"
   ]
  },
  {
   "cell_type": "code",
   "execution_count": 8,
   "metadata": {},
   "outputs": [
    {
     "data": {
      "text/plain": [
       "941"
      ]
     },
     "execution_count": 8,
     "metadata": {},
     "output_type": "execute_result"
    }
   ],
   "source": [
    "delta.days"
   ]
  },
  {
   "cell_type": "code",
   "execution_count": 9,
   "metadata": {},
   "outputs": [
    {
     "data": {
      "text/plain": [
       "56700"
      ]
     },
     "execution_count": 9,
     "metadata": {},
     "output_type": "execute_result"
    }
   ],
   "source": [
    "delta.seconds"
   ]
  },
  {
   "cell_type": "markdown",
   "metadata": {},
   "source": [
    "You can add (or subtract) a timedelta or multiple thereof to a datetime object to yield\n",
    "a new shifted object:"
   ]
  },
  {
   "cell_type": "code",
   "execution_count": 11,
   "metadata": {},
   "outputs": [],
   "source": [
    "from datetime import timedelta"
   ]
  },
  {
   "cell_type": "code",
   "execution_count": 12,
   "metadata": {
    "collapsed": true
   },
   "outputs": [],
   "source": [
    "start = datetime(2015, 1, 7)"
   ]
  },
  {
   "cell_type": "code",
   "execution_count": 13,
   "metadata": {},
   "outputs": [
    {
     "data": {
      "text/plain": [
       "datetime.datetime(2015, 1, 19, 0, 0)"
      ]
     },
     "execution_count": 13,
     "metadata": {},
     "output_type": "execute_result"
    }
   ],
   "source": [
    "start + timedelta(12)"
   ]
  },
  {
   "cell_type": "code",
   "execution_count": 16,
   "metadata": {},
   "outputs": [
    {
     "data": {
      "text/plain": [
       "datetime.datetime(2014, 12, 14, 0, 0)"
      ]
     },
     "execution_count": 16,
     "metadata": {},
     "output_type": "execute_result"
    }
   ],
   "source": [
    "start - 2 * timedelta(12)"
   ]
  },
  {
   "attachments": {},
   "cell_type": "markdown",
   "metadata": {},
   "source": [
    "Types in datetime module:\n",
    "\n",
    "    date > Store calendar date (year, month, day) using the Gregorian calendar.\n",
    "    \n",
    "    time > Store time of day as hours, minutes, seconds, and microseconds\n",
    "    \n",
    "    datetime > Stores both date and time\n",
    "    \n",
    "    timedelta > Represents the difference between two datetime values (as days, seconds, and microseconds)"
   ]
  },
  {
   "cell_type": "markdown",
   "metadata": {},
   "source": [
    "Converting between string and datetime: \n",
    "\n",
    "datetime objects and pandas Timestamp objects can be formatted\n",
    "as strings using str or the strftime method, passing a format specification:"
   ]
  },
  {
   "cell_type": "code",
   "execution_count": 17,
   "metadata": {
    "collapsed": true
   },
   "outputs": [],
   "source": [
    "stamp = datetime(2017, 1, 3)"
   ]
  },
  {
   "cell_type": "code",
   "execution_count": 18,
   "metadata": {},
   "outputs": [
    {
     "data": {
      "text/plain": [
       "'2017-01-03 00:00:00'"
      ]
     },
     "execution_count": 18,
     "metadata": {},
     "output_type": "execute_result"
    }
   ],
   "source": [
    "str(stamp)"
   ]
  },
  {
   "cell_type": "code",
   "execution_count": 19,
   "metadata": {},
   "outputs": [
    {
     "data": {
      "text/plain": [
       "'2017-01-03'"
      ]
     },
     "execution_count": 19,
     "metadata": {},
     "output_type": "execute_result"
    }
   ],
   "source": [
    "stamp.strftime('%Y-%m-%d')"
   ]
  },
  {
   "cell_type": "markdown",
   "metadata": {},
   "source": [
    "These same format codes can be\n",
    "used to convert strings to dates using datetime.strptime:"
   ]
  },
  {
   "cell_type": "code",
   "execution_count": 20,
   "metadata": {
    "collapsed": true
   },
   "outputs": [],
   "source": [
    "date_input = '2017-07-21'"
   ]
  },
  {
   "cell_type": "code",
   "execution_count": 21,
   "metadata": {},
   "outputs": [
    {
     "data": {
      "text/plain": [
       "datetime.datetime(2017, 7, 21, 0, 0)"
      ]
     },
     "execution_count": 21,
     "metadata": {},
     "output_type": "execute_result"
    }
   ],
   "source": [
    "datetime.strptime(date_input, '%Y-%m-%d')"
   ]
  },
  {
   "cell_type": "code",
   "execution_count": 22,
   "metadata": {
    "collapsed": true
   },
   "outputs": [],
   "source": [
    "datestrs = ['7/6/2017', '8/6/2017']"
   ]
  },
  {
   "cell_type": "code",
   "execution_count": 23,
   "metadata": {},
   "outputs": [
    {
     "data": {
      "text/plain": [
       "[datetime.datetime(2017, 7, 6, 0, 0), datetime.datetime(2017, 8, 6, 0, 0)]"
      ]
     },
     "execution_count": 23,
     "metadata": {},
     "output_type": "execute_result"
    }
   ],
   "source": [
    "[datetime.strptime(x, '%m/%d/%Y') for x in datestrs]"
   ]
  },
  {
   "cell_type": "markdown",
   "metadata": {},
   "source": [
    "datetime.strptime is the best way to parse a date with a known format. However, it\n",
    "can be a bit annoying to have to write a format spec each time, especially for common\n",
    "date formats. In this case, you can use the parser.parse method in the third party\n",
    "dateutil package:"
   ]
  },
  {
   "cell_type": "code",
   "execution_count": 24,
   "metadata": {
    "collapsed": true
   },
   "outputs": [],
   "source": [
    "from dateutil.parser import parse"
   ]
  },
  {
   "cell_type": "code",
   "execution_count": 25,
   "metadata": {},
   "outputs": [
    {
     "data": {
      "text/plain": [
       "datetime.datetime(2017, 1, 8, 0, 0)"
      ]
     },
     "execution_count": 25,
     "metadata": {},
     "output_type": "execute_result"
    }
   ],
   "source": [
    "parse('2017-01-08')"
   ]
  },
  {
   "cell_type": "markdown",
   "metadata": {},
   "source": [
    "dateutil is capable of parsing almost any human-intelligible date representation:"
   ]
  },
  {
   "cell_type": "code",
   "execution_count": 27,
   "metadata": {},
   "outputs": [
    {
     "data": {
      "text/plain": [
       "datetime.datetime(2017, 7, 21, 12, 2)"
      ]
     },
     "execution_count": 27,
     "metadata": {},
     "output_type": "execute_result"
    }
   ],
   "source": [
    "parse('Jul 21, 2017 12:02 PM')"
   ]
  },
  {
   "cell_type": "markdown",
   "metadata": {},
   "source": [
    "In international locales, day appearing before month is very common, so you can pass\n",
    "dayfirst=True to indicate this:"
   ]
  },
  {
   "cell_type": "code",
   "execution_count": 28,
   "metadata": {},
   "outputs": [
    {
     "data": {
      "text/plain": [
       "datetime.datetime(2017, 7, 21, 0, 0)"
      ]
     },
     "execution_count": 28,
     "metadata": {},
     "output_type": "execute_result"
    }
   ],
   "source": [
    "parse('21/7/2017', dayfirst=True)"
   ]
  },
  {
   "cell_type": "markdown",
   "metadata": {},
   "source": [
    "pandas is generally oriented toward working with arrays of dates, whether used as an\n",
    "axis index or a column in a DataFrame. The to_datetime method parses many different\n",
    "kinds of date representations. Standard date formats like ISO8601 can be parsed very\n",
    "quickly."
   ]
  },
  {
   "cell_type": "code",
   "execution_count": 29,
   "metadata": {
    "collapsed": true
   },
   "outputs": [],
   "source": [
    "import pandas as pd"
   ]
  },
  {
   "cell_type": "code",
   "execution_count": 30,
   "metadata": {},
   "outputs": [
    {
     "data": {
      "text/plain": [
       "['7/6/2017', '8/6/2017']"
      ]
     },
     "execution_count": 30,
     "metadata": {},
     "output_type": "execute_result"
    }
   ],
   "source": [
    "datestrs"
   ]
  },
  {
   "cell_type": "code",
   "execution_count": 31,
   "metadata": {},
   "outputs": [
    {
     "data": {
      "text/plain": [
       "DatetimeIndex(['2017-07-06', '2017-08-06'], dtype='datetime64[ns]', freq=None)"
      ]
     },
     "execution_count": 31,
     "metadata": {},
     "output_type": "execute_result"
    }
   ],
   "source": [
    "pd.to_datetime(datestrs)"
   ]
  },
  {
   "cell_type": "markdown",
   "metadata": {},
   "source": [
    "It also handles values that should be considered missing (None, empty string, etc.):"
   ]
  },
  {
   "cell_type": "code",
   "execution_count": 32,
   "metadata": {
    "collapsed": true
   },
   "outputs": [],
   "source": [
    "idx = pd.to_datetime(datestrs + [None])"
   ]
  },
  {
   "cell_type": "code",
   "execution_count": 33,
   "metadata": {},
   "outputs": [
    {
     "data": {
      "text/plain": [
       "DatetimeIndex(['2017-07-06', '2017-08-06', 'NaT'], dtype='datetime64[ns]', freq=None)"
      ]
     },
     "execution_count": 33,
     "metadata": {},
     "output_type": "execute_result"
    }
   ],
   "source": [
    "idx"
   ]
  },
  {
   "cell_type": "code",
   "execution_count": 34,
   "metadata": {},
   "outputs": [
    {
     "data": {
      "text/plain": [
       "NaT"
      ]
     },
     "execution_count": 34,
     "metadata": {},
     "output_type": "execute_result"
    }
   ],
   "source": [
    "idx[2]"
   ]
  },
  {
   "cell_type": "markdown",
   "metadata": {},
   "source": [
    "NaT (Not a Time) is pandas’s NA value for timestamp data."
   ]
  },
  {
   "cell_type": "code",
   "execution_count": 35,
   "metadata": {},
   "outputs": [
    {
     "data": {
      "text/plain": [
       "array([False, False,  True], dtype=bool)"
      ]
     },
     "execution_count": 35,
     "metadata": {},
     "output_type": "execute_result"
    }
   ],
   "source": [
    "pd.isnull(idx)"
   ]
  },
  {
   "cell_type": "markdown",
   "metadata": {},
   "source": [
    "Datetime format specification (ISO C89 compatible):\n",
    "    \n",
    "    %Y > 4-digit year\n",
    "    \n",
    "    %y > 2-digit year\n",
    "    \n",
    "    %m > 2-digit month [01, 12]\n",
    "    \n",
    "    %d > 2-digit day [01, 31]\n",
    "    \n",
    "    %H > Hour (24-hour clock) [00, 23]\n",
    "    \n",
    "    %I > Hour (12-hour clock) [01, 12]\n",
    "    \n",
    "    %M > 2-digit minute [00, 59]\n",
    "    \n",
    "    %S > Second [00, 61] (seconds 60, 61 account for leap seconds)\n",
    "    \n",
    "    %w > Weekday as integer [0 (Sunday), 6]\n",
    "    \n",
    "    %U > Week number of the year [00, 53]. Sunday is considered the first day of the week, and days before the first\n",
    "         Sunday of the year are “week 0”.\n",
    "     \n",
    "    %W > Week number of the year [00, 53]. Monday is considered the first day of the week, and days before the first\n",
    "         Monday of the year are “week 0”.\n",
    "    \n",
    "    %z > UTC time zone offset as +HHMM or -HHMM, empty if time zone naive.\n",
    "    \n",
    "    %F > Shortcut for %Y-%m-%d, for example 2012-4-18\n",
    "    \n",
    "    %D > Shortcut for %m/%d/%y, for example 04/18/12"
   ]
  },
  {
   "cell_type": "markdown",
   "metadata": {},
   "source": [
    "datetime objects also have a number of locale-specific formatting options for systems\n",
    "in other countries or languages. For example, the abbreviated month names will be\n",
    "different on German or French systems compared with English systems.\n",
    "\n",
    "Locale-specific date formatting: \n",
    "\n",
    "    %a > Abbreviated weekday name\n",
    "    \n",
    "    %A > Full weekday name\n",
    "    \n",
    "    %b > Abbreviated month name\n",
    "    \n",
    "    %B > Full month name\n",
    "    \n",
    "    %c > Full date and time, for example ‘Tue 01 May 2012 04:20:57 PM’\n",
    "    \n",
    "    %p > Locale equivalent of AM or PM\n",
    "    \n",
    "    %x > Locale-appropriate formatted date; e.g. in US May 1, 2012 yields ’05/01/2012’\n",
    "    \n",
    "    %X > Locale-appropriate time, e.g. ’04:24:12 PM’"
   ]
  },
  {
   "cell_type": "markdown",
   "metadata": {},
   "source": [
    "Time Series basics:\n",
    "\n",
    "The most basic kind of time series object in pandas is a Series indexed by timestamps,\n",
    "which is often represented external to pandas as Python strings or datetime objects:\n",
    "    \n",
    "    "
   ]
  },
  {
   "cell_type": "code",
   "execution_count": 37,
   "metadata": {
    "collapsed": true
   },
   "outputs": [],
   "source": [
    "from datetime import datetime\n",
    "import pandas as pd\n",
    "import numpy as np"
   ]
  },
  {
   "cell_type": "code",
   "execution_count": 36,
   "metadata": {
    "collapsed": true
   },
   "outputs": [],
   "source": [
    "dates = [datetime(2017, 7, 1), datetime(2017, 7, 4), datetime(2017, 7, 7),\n",
    "        datetime(2017, 7, 10), datetime(2017, 7, 12), datetime(2017, 7, 15)]"
   ]
  },
  {
   "cell_type": "code",
   "execution_count": 39,
   "metadata": {
    "scrolled": true
   },
   "outputs": [],
   "source": [
    "ts = pd.Series(np.random.randn(6), index = dates)"
   ]
  },
  {
   "cell_type": "code",
   "execution_count": 40,
   "metadata": {},
   "outputs": [
    {
     "data": {
      "text/plain": [
       "2017-07-01   -0.624124\n",
       "2017-07-04   -0.506535\n",
       "2017-07-07   -0.796637\n",
       "2017-07-10    1.556780\n",
       "2017-07-12    0.156342\n",
       "2017-07-15   -0.953531\n",
       "dtype: float64"
      ]
     },
     "execution_count": 40,
     "metadata": {},
     "output_type": "execute_result"
    }
   ],
   "source": [
    "ts"
   ]
  },
  {
   "cell_type": "code",
   "execution_count": 41,
   "metadata": {},
   "outputs": [
    {
     "data": {
      "text/plain": [
       "pandas.core.series.Series"
      ]
     },
     "execution_count": 41,
     "metadata": {},
     "output_type": "execute_result"
    }
   ],
   "source": [
    "type(ts)"
   ]
  },
  {
   "cell_type": "code",
   "execution_count": 42,
   "metadata": {},
   "outputs": [
    {
     "data": {
      "text/plain": [
       "DatetimeIndex(['2017-07-01', '2017-07-04', '2017-07-07', '2017-07-10',\n",
       "               '2017-07-12', '2017-07-15'],\n",
       "              dtype='datetime64[ns]', freq=None)"
      ]
     },
     "execution_count": 42,
     "metadata": {},
     "output_type": "execute_result"
    }
   ],
   "source": [
    "ts.index"
   ]
  },
  {
   "cell_type": "markdown",
   "metadata": {},
   "source": [
    "Like other Series, arithmetic operations between differently-indexed time series automatically\n",
    "align on the dates:"
   ]
  },
  {
   "cell_type": "code",
   "execution_count": 43,
   "metadata": {},
   "outputs": [
    {
     "data": {
      "text/plain": [
       "2017-07-01   -1.248247\n",
       "2017-07-04         NaN\n",
       "2017-07-07   -1.593273\n",
       "2017-07-10         NaN\n",
       "2017-07-12    0.312684\n",
       "2017-07-15         NaN\n",
       "dtype: float64"
      ]
     },
     "execution_count": 43,
     "metadata": {},
     "output_type": "execute_result"
    }
   ],
   "source": [
    "ts + ts[::2]"
   ]
  },
  {
   "cell_type": "markdown",
   "metadata": {},
   "source": [
    "pandas stores timestamps using NumPy’s datetime64 data type at the nanosecond resolution:"
   ]
  },
  {
   "cell_type": "code",
   "execution_count": 50,
   "metadata": {},
   "outputs": [
    {
     "data": {
      "text/plain": [
       "'datetime64[ns]'"
      ]
     },
     "execution_count": 50,
     "metadata": {},
     "output_type": "execute_result"
    }
   ],
   "source": [
    "ts.index.dtype_str"
   ]
  },
  {
   "cell_type": "markdown",
   "metadata": {},
   "source": [
    "Scalar values from a DatetimeIndex are pandas Timestamp objects"
   ]
  },
  {
   "cell_type": "code",
   "execution_count": 52,
   "metadata": {},
   "outputs": [],
   "source": [
    "stamp = ts.index[0]"
   ]
  },
  {
   "cell_type": "code",
   "execution_count": 53,
   "metadata": {},
   "outputs": [
    {
     "data": {
      "text/plain": [
       "Timestamp('2017-07-01 00:00:00')"
      ]
     },
     "execution_count": 53,
     "metadata": {},
     "output_type": "execute_result"
    }
   ],
   "source": [
    "stamp"
   ]
  },
  {
   "cell_type": "markdown",
   "metadata": {},
   "source": [
    "A Timestamp can be substituted anywhere you would use a datetime object. Additionally,\n",
    "it can store frequency information (if any) and understands how to do time zone\n",
    "conversions and other kinds of manipulations."
   ]
  },
  {
   "cell_type": "markdown",
   "metadata": {},
   "source": [
    "Indexing, Selection, Subsetting:\n",
    "\n",
    "TimeSeries is a subclass of Series and thus behaves in the same way with regard to\n",
    "indexing and selecting data based on label:"
   ]
  },
  {
   "cell_type": "code",
   "execution_count": 56,
   "metadata": {},
   "outputs": [
    {
     "data": {
      "text/plain": [
       "2017-07-01   -0.624124\n",
       "2017-07-04   -0.506535\n",
       "2017-07-07   -0.796637\n",
       "2017-07-10    1.556780\n",
       "2017-07-12    0.156342\n",
       "2017-07-15   -0.953531\n",
       "dtype: float64"
      ]
     },
     "execution_count": 56,
     "metadata": {},
     "output_type": "execute_result"
    }
   ],
   "source": [
    "ts"
   ]
  },
  {
   "cell_type": "code",
   "execution_count": 54,
   "metadata": {
    "collapsed": true
   },
   "outputs": [],
   "source": [
    "stamp = ts.index[2]"
   ]
  },
  {
   "cell_type": "code",
   "execution_count": 55,
   "metadata": {},
   "outputs": [
    {
     "data": {
      "text/plain": [
       "-0.79663665572425824"
      ]
     },
     "execution_count": 55,
     "metadata": {},
     "output_type": "execute_result"
    }
   ],
   "source": [
    "ts[stamp]"
   ]
  },
  {
   "cell_type": "markdown",
   "metadata": {},
   "source": [
    "As a convenience, you can also pass a string that is interpretable as a date:"
   ]
  },
  {
   "cell_type": "code",
   "execution_count": 57,
   "metadata": {},
   "outputs": [
    {
     "data": {
      "text/plain": [
       "0.15634202286856422"
      ]
     },
     "execution_count": 57,
     "metadata": {},
     "output_type": "execute_result"
    }
   ],
   "source": [
    "ts['7/12/2017']"
   ]
  },
  {
   "cell_type": "code",
   "execution_count": 58,
   "metadata": {},
   "outputs": [
    {
     "data": {
      "text/plain": [
       "-0.50653504373114522"
      ]
     },
     "execution_count": 58,
     "metadata": {},
     "output_type": "execute_result"
    }
   ],
   "source": [
    "ts['20170704']"
   ]
  },
  {
   "cell_type": "markdown",
   "metadata": {},
   "source": [
    "For longer time series, a year or only a year and month can be passed to easily select\n",
    "slices of data:"
   ]
  },
  {
   "cell_type": "code",
   "execution_count": 60,
   "metadata": {},
   "outputs": [],
   "source": [
    "longer_ts = pd.Series(np.random.randn(1000), index = pd.date_range('1/1/2017', periods=1000))"
   ]
  },
  {
   "cell_type": "code",
   "execution_count": 61,
   "metadata": {},
   "outputs": [
    {
     "data": {
      "text/plain": [
       "2017-01-01   -1.020274\n",
       "2017-01-02    0.525391\n",
       "2017-01-03    0.542173\n",
       "2017-01-04    0.223636\n",
       "2017-01-05   -0.841831\n",
       "2017-01-06    1.749637\n",
       "2017-01-07   -0.123948\n",
       "2017-01-08   -1.179558\n",
       "2017-01-09    0.361225\n",
       "2017-01-10   -1.773824\n",
       "2017-01-11    0.291970\n",
       "2017-01-12    0.194238\n",
       "2017-01-13   -1.896861\n",
       "2017-01-14    0.867734\n",
       "2017-01-15   -0.298983\n",
       "2017-01-16   -0.312290\n",
       "2017-01-17   -0.641412\n",
       "2017-01-18   -0.534009\n",
       "2017-01-19    0.109856\n",
       "2017-01-20    0.585710\n",
       "2017-01-21   -1.033172\n",
       "2017-01-22    0.863000\n",
       "2017-01-23    0.394097\n",
       "2017-01-24   -0.495147\n",
       "2017-01-25    0.612105\n",
       "2017-01-26   -0.288252\n",
       "2017-01-27   -0.695481\n",
       "2017-01-28   -1.581062\n",
       "2017-01-29    0.726267\n",
       "2017-01-30    0.604149\n",
       "                ...   \n",
       "2019-08-29   -1.134327\n",
       "2019-08-30    1.537903\n",
       "2019-08-31   -0.097935\n",
       "2019-09-01    0.412928\n",
       "2019-09-02    0.757533\n",
       "2019-09-03    0.309326\n",
       "2019-09-04   -0.323455\n",
       "2019-09-05    0.653967\n",
       "2019-09-06   -0.696215\n",
       "2019-09-07   -0.308931\n",
       "2019-09-08   -0.232449\n",
       "2019-09-09    3.372820\n",
       "2019-09-10   -2.270240\n",
       "2019-09-11    0.765699\n",
       "2019-09-12   -0.061318\n",
       "2019-09-13   -1.377386\n",
       "2019-09-14   -2.458830\n",
       "2019-09-15    0.227405\n",
       "2019-09-16    0.251965\n",
       "2019-09-17   -0.452494\n",
       "2019-09-18    1.360247\n",
       "2019-09-19   -2.683483\n",
       "2019-09-20    0.110544\n",
       "2019-09-21    0.759754\n",
       "2019-09-22   -0.026021\n",
       "2019-09-23   -0.366800\n",
       "2019-09-24   -0.969703\n",
       "2019-09-25    0.953200\n",
       "2019-09-26    0.384367\n",
       "2019-09-27    1.013008\n",
       "Freq: D, Length: 1000, dtype: float64"
      ]
     },
     "execution_count": 61,
     "metadata": {},
     "output_type": "execute_result"
    }
   ],
   "source": [
    "longer_ts"
   ]
  },
  {
   "cell_type": "code",
   "execution_count": 62,
   "metadata": {},
   "outputs": [
    {
     "data": {
      "text/plain": [
       "2017-01-01   -1.020274\n",
       "2017-01-02    0.525391\n",
       "2017-01-03    0.542173\n",
       "2017-01-04    0.223636\n",
       "2017-01-05   -0.841831\n",
       "2017-01-06    1.749637\n",
       "2017-01-07   -0.123948\n",
       "2017-01-08   -1.179558\n",
       "2017-01-09    0.361225\n",
       "2017-01-10   -1.773824\n",
       "2017-01-11    0.291970\n",
       "2017-01-12    0.194238\n",
       "2017-01-13   -1.896861\n",
       "2017-01-14    0.867734\n",
       "2017-01-15   -0.298983\n",
       "2017-01-16   -0.312290\n",
       "2017-01-17   -0.641412\n",
       "2017-01-18   -0.534009\n",
       "2017-01-19    0.109856\n",
       "2017-01-20    0.585710\n",
       "2017-01-21   -1.033172\n",
       "2017-01-22    0.863000\n",
       "2017-01-23    0.394097\n",
       "2017-01-24   -0.495147\n",
       "2017-01-25    0.612105\n",
       "2017-01-26   -0.288252\n",
       "2017-01-27   -0.695481\n",
       "2017-01-28   -1.581062\n",
       "2017-01-29    0.726267\n",
       "2017-01-30    0.604149\n",
       "                ...   \n",
       "2017-12-02    0.317193\n",
       "2017-12-03   -0.595492\n",
       "2017-12-04    1.726154\n",
       "2017-12-05   -0.636209\n",
       "2017-12-06    0.097057\n",
       "2017-12-07    0.913001\n",
       "2017-12-08   -0.421553\n",
       "2017-12-09    1.526800\n",
       "2017-12-10    1.623848\n",
       "2017-12-11    0.345322\n",
       "2017-12-12   -1.484703\n",
       "2017-12-13   -0.387909\n",
       "2017-12-14    1.261607\n",
       "2017-12-15    2.107653\n",
       "2017-12-16   -0.147211\n",
       "2017-12-17   -0.416856\n",
       "2017-12-18   -0.547902\n",
       "2017-12-19   -0.169184\n",
       "2017-12-20   -1.287840\n",
       "2017-12-21   -1.831736\n",
       "2017-12-22   -0.797367\n",
       "2017-12-23   -2.286477\n",
       "2017-12-24   -1.232682\n",
       "2017-12-25   -2.121492\n",
       "2017-12-26    1.068086\n",
       "2017-12-27   -1.108632\n",
       "2017-12-28   -0.860009\n",
       "2017-12-29    0.567659\n",
       "2017-12-30    0.802790\n",
       "2017-12-31   -0.101364\n",
       "Freq: D, Length: 365, dtype: float64"
      ]
     },
     "execution_count": 62,
     "metadata": {},
     "output_type": "execute_result"
    }
   ],
   "source": [
    "longer_ts['2017']"
   ]
  },
  {
   "cell_type": "code",
   "execution_count": 63,
   "metadata": {},
   "outputs": [
    {
     "data": {
      "text/plain": [
       "2017-07-01    1.803742\n",
       "2017-07-02   -1.119635\n",
       "2017-07-03    0.187859\n",
       "2017-07-04   -1.347123\n",
       "2017-07-05    0.439801\n",
       "2017-07-06    0.437486\n",
       "2017-07-07    0.783154\n",
       "2017-07-08   -0.392527\n",
       "2017-07-09   -0.477032\n",
       "2017-07-10    1.856573\n",
       "2017-07-11    0.660579\n",
       "2017-07-12   -0.969307\n",
       "2017-07-13    2.158718\n",
       "2017-07-14    1.754190\n",
       "2017-07-15    0.310822\n",
       "2017-07-16    1.004142\n",
       "2017-07-17   -0.013859\n",
       "2017-07-18    2.800424\n",
       "2017-07-19    0.782208\n",
       "2017-07-20   -0.931560\n",
       "2017-07-21   -1.262167\n",
       "2017-07-22    0.702078\n",
       "2017-07-23    0.192346\n",
       "2017-07-24   -0.016388\n",
       "2017-07-25   -1.460406\n",
       "2017-07-26    0.433458\n",
       "2017-07-27   -0.506552\n",
       "2017-07-28   -0.051210\n",
       "2017-07-29    0.196609\n",
       "2017-07-30    0.262469\n",
       "2017-07-31    1.336575\n",
       "Freq: D, dtype: float64"
      ]
     },
     "execution_count": 63,
     "metadata": {},
     "output_type": "execute_result"
    }
   ],
   "source": [
    "longer_ts['2017-07']"
   ]
  },
  {
   "cell_type": "code",
   "execution_count": 64,
   "metadata": {},
   "outputs": [
    {
     "data": {
      "text/plain": [
       "2017-07-01   -0.624124\n",
       "2017-07-04   -0.506535\n",
       "2017-07-07   -0.796637\n",
       "2017-07-10    1.556780\n",
       "2017-07-12    0.156342\n",
       "2017-07-15   -0.953531\n",
       "dtype: float64"
      ]
     },
     "execution_count": 64,
     "metadata": {},
     "output_type": "execute_result"
    }
   ],
   "source": [
    "#Slicing with dates works just like with a regular Series:\n",
    "\n",
    "ts"
   ]
  },
  {
   "cell_type": "code",
   "execution_count": 65,
   "metadata": {},
   "outputs": [
    {
     "data": {
      "text/plain": [
       "2017-07-07   -0.796637\n",
       "2017-07-10    1.556780\n",
       "2017-07-12    0.156342\n",
       "2017-07-15   -0.953531\n",
       "dtype: float64"
      ]
     },
     "execution_count": 65,
     "metadata": {},
     "output_type": "execute_result"
    }
   ],
   "source": [
    "ts[datetime(2017,7,7):]"
   ]
  },
  {
   "cell_type": "markdown",
   "metadata": {},
   "source": [
    "Because most time series data is ordered chronologically, you can slice with timestamps\n",
    "not contained in a time series to perform a range query:"
   ]
  },
  {
   "cell_type": "code",
   "execution_count": 66,
   "metadata": {},
   "outputs": [
    {
     "data": {
      "text/plain": [
       "2017-07-07   -0.796637\n",
       "2017-07-10    1.556780\n",
       "2017-07-12    0.156342\n",
       "dtype: float64"
      ]
     },
     "execution_count": 66,
     "metadata": {},
     "output_type": "execute_result"
    }
   ],
   "source": [
    "ts['7/7/2017':'7/12/2017']"
   ]
  },
  {
   "cell_type": "markdown",
   "metadata": {},
   "source": [
    "As before you can pass either a string date, datetime, or Timestamp. Remember that\n",
    "slicing in this manner produces views on the source time series just like slicing NumPy\n",
    "arrays. There is an equivalent instance method truncate which slices a TimeSeries between\n",
    "two dates:"
   ]
  },
  {
   "cell_type": "code",
   "execution_count": 72,
   "metadata": {},
   "outputs": [
    {
     "data": {
      "text/plain": [
       "2017-07-01   -0.624124\n",
       "2017-07-04   -0.506535\n",
       "2017-07-07   -0.796637\n",
       "2017-07-10    1.556780\n",
       "dtype: float64"
      ]
     },
     "execution_count": 72,
     "metadata": {},
     "output_type": "execute_result"
    }
   ],
   "source": [
    "ts.truncate(after='7/10/2017')"
   ]
  },
  {
   "cell_type": "code",
   "execution_count": 73,
   "metadata": {},
   "outputs": [
    {
     "data": {
      "text/plain": [
       "2017-07-10    1.556780\n",
       "2017-07-12    0.156342\n",
       "2017-07-15   -0.953531\n",
       "dtype: float64"
      ]
     },
     "execution_count": 73,
     "metadata": {},
     "output_type": "execute_result"
    }
   ],
   "source": [
    "ts.truncate(before='7/10/2017')"
   ]
  },
  {
   "cell_type": "code",
   "execution_count": 82,
   "metadata": {},
   "outputs": [],
   "source": [
    "# All of the above holds true for DataFrame as well, indexing on its rows:\n",
    "\n",
    "dates = pd.date_range('1/1/2017', periods=100, freq='W-WED')\n"
   ]
  },
  {
   "cell_type": "code",
   "execution_count": 86,
   "metadata": {},
   "outputs": [],
   "source": [
    "long_df = pd.DataFrame(np.random.randn(100,4),\n",
    "                    index=dates,\n",
    "                   columns=['Bangalore', 'Gurgaon', 'Mumbai', 'Pune'])"
   ]
  },
  {
   "cell_type": "code",
   "execution_count": 87,
   "metadata": {},
   "outputs": [
    {
     "data": {
      "text/html": [
       "<div>\n",
       "<style>\n",
       "    .dataframe thead tr:only-child th {\n",
       "        text-align: right;\n",
       "    }\n",
       "\n",
       "    .dataframe thead th {\n",
       "        text-align: left;\n",
       "    }\n",
       "\n",
       "    .dataframe tbody tr th {\n",
       "        vertical-align: top;\n",
       "    }\n",
       "</style>\n",
       "<table border=\"1\" class=\"dataframe\">\n",
       "  <thead>\n",
       "    <tr style=\"text-align: right;\">\n",
       "      <th></th>\n",
       "      <th>Bangalore</th>\n",
       "      <th>Gurgaon</th>\n",
       "      <th>Mumbai</th>\n",
       "      <th>Pune</th>\n",
       "    </tr>\n",
       "  </thead>\n",
       "  <tbody>\n",
       "    <tr>\n",
       "      <th>2017-05-03</th>\n",
       "      <td>1.035246</td>\n",
       "      <td>-0.084437</td>\n",
       "      <td>0.514409</td>\n",
       "      <td>-2.396768</td>\n",
       "    </tr>\n",
       "    <tr>\n",
       "      <th>2017-05-10</th>\n",
       "      <td>-1.148397</td>\n",
       "      <td>-1.156102</td>\n",
       "      <td>1.115474</td>\n",
       "      <td>0.052190</td>\n",
       "    </tr>\n",
       "    <tr>\n",
       "      <th>2017-05-17</th>\n",
       "      <td>1.668546</td>\n",
       "      <td>-0.123014</td>\n",
       "      <td>0.366537</td>\n",
       "      <td>-0.478370</td>\n",
       "    </tr>\n",
       "    <tr>\n",
       "      <th>2017-05-24</th>\n",
       "      <td>-0.300024</td>\n",
       "      <td>-1.024657</td>\n",
       "      <td>1.432893</td>\n",
       "      <td>-1.249161</td>\n",
       "    </tr>\n",
       "    <tr>\n",
       "      <th>2017-05-31</th>\n",
       "      <td>-1.776464</td>\n",
       "      <td>0.447122</td>\n",
       "      <td>1.414563</td>\n",
       "      <td>-1.120234</td>\n",
       "    </tr>\n",
       "  </tbody>\n",
       "</table>\n",
       "</div>"
      ],
      "text/plain": [
       "            Bangalore   Gurgaon    Mumbai      Pune\n",
       "2017-05-03   1.035246 -0.084437  0.514409 -2.396768\n",
       "2017-05-10  -1.148397 -1.156102  1.115474  0.052190\n",
       "2017-05-17   1.668546 -0.123014  0.366537 -0.478370\n",
       "2017-05-24  -0.300024 -1.024657  1.432893 -1.249161\n",
       "2017-05-31  -1.776464  0.447122  1.414563 -1.120234"
      ]
     },
     "execution_count": 87,
     "metadata": {},
     "output_type": "execute_result"
    }
   ],
   "source": [
    "long_df['5-2017']"
   ]
  },
  {
   "cell_type": "markdown",
   "metadata": {},
   "source": [
    "Time Series with Duplicate Indices:"
   ]
  },
  {
   "cell_type": "code",
   "execution_count": 88,
   "metadata": {
    "collapsed": true
   },
   "outputs": [],
   "source": [
    "dates = pd.DatetimeIndex(['1/1/2000', '1/2/2000', '1/2/2000', '1/2/2000', '1/3/2000'])"
   ]
  },
  {
   "cell_type": "code",
   "execution_count": 89,
   "metadata": {
    "collapsed": true
   },
   "outputs": [],
   "source": [
    "dup_ts = pd.Series(np.arange(5), index=dates)"
   ]
  },
  {
   "cell_type": "code",
   "execution_count": 90,
   "metadata": {},
   "outputs": [
    {
     "data": {
      "text/plain": [
       "2000-01-01    0\n",
       "2000-01-02    1\n",
       "2000-01-02    2\n",
       "2000-01-02    3\n",
       "2000-01-03    4\n",
       "dtype: int32"
      ]
     },
     "execution_count": 90,
     "metadata": {},
     "output_type": "execute_result"
    }
   ],
   "source": [
    "dup_ts"
   ]
  },
  {
   "cell_type": "code",
   "execution_count": 91,
   "metadata": {},
   "outputs": [
    {
     "data": {
      "text/plain": [
       "False"
      ]
     },
     "execution_count": 91,
     "metadata": {},
     "output_type": "execute_result"
    }
   ],
   "source": [
    "# We can tell that the index is not unique by checking its is_unique property:\n",
    "\n",
    "dup_ts.index.is_unique"
   ]
  },
  {
   "cell_type": "markdown",
   "metadata": {},
   "source": [
    "Indexing into this time series will now either produce scalar values or slices depending\n",
    "on whether a timestamp is duplicated:"
   ]
  },
  {
   "cell_type": "code",
   "execution_count": 92,
   "metadata": {},
   "outputs": [
    {
     "data": {
      "text/plain": [
       "4"
      ]
     },
     "execution_count": 92,
     "metadata": {},
     "output_type": "execute_result"
    }
   ],
   "source": [
    "dup_ts['1/3/2000'] # not duplicated"
   ]
  },
  {
   "cell_type": "code",
   "execution_count": 93,
   "metadata": {},
   "outputs": [
    {
     "data": {
      "text/plain": [
       "2000-01-02    1\n",
       "2000-01-02    2\n",
       "2000-01-02    3\n",
       "dtype: int32"
      ]
     },
     "execution_count": 93,
     "metadata": {},
     "output_type": "execute_result"
    }
   ],
   "source": [
    "dup_ts['1/2/2000'] # duplicated"
   ]
  },
  {
   "cell_type": "markdown",
   "metadata": {},
   "source": [
    "Suppose you wanted to aggregate the data having non-unique timestamps. One way\n",
    "to do this is to use groupby and pass level=0 (the only level of indexing!):"
   ]
  },
  {
   "cell_type": "code",
   "execution_count": 94,
   "metadata": {
    "collapsed": true
   },
   "outputs": [],
   "source": [
    "grouped = dup_ts.groupby(level=0)"
   ]
  },
  {
   "cell_type": "code",
   "execution_count": 96,
   "metadata": {},
   "outputs": [
    {
     "data": {
      "text/plain": [
       "2000-01-01    0\n",
       "2000-01-02    2\n",
       "2000-01-03    4\n",
       "dtype: int32"
      ]
     },
     "execution_count": 96,
     "metadata": {},
     "output_type": "execute_result"
    }
   ],
   "source": [
    "grouped.mean()"
   ]
  },
  {
   "cell_type": "code",
   "execution_count": 97,
   "metadata": {},
   "outputs": [
    {
     "data": {
      "text/plain": [
       "2000-01-01    1\n",
       "2000-01-02    3\n",
       "2000-01-03    1\n",
       "dtype: int64"
      ]
     },
     "execution_count": 97,
     "metadata": {},
     "output_type": "execute_result"
    }
   ],
   "source": [
    "grouped.count()"
   ]
  },
  {
   "cell_type": "code",
   "execution_count": null,
   "metadata": {
    "collapsed": true
   },
   "outputs": [],
   "source": []
  }
 ],
 "metadata": {
  "kernelspec": {
   "display_name": "Python 3",
   "language": "python",
   "name": "python3"
  },
  "language_info": {
   "codemirror_mode": {
    "name": "ipython",
    "version": 3
   },
   "file_extension": ".py",
   "mimetype": "text/x-python",
   "name": "python",
   "nbconvert_exporter": "python",
   "pygments_lexer": "ipython3",
   "version": "3.6.1"
  }
 },
 "nbformat": 4,
 "nbformat_minor": 2
}
